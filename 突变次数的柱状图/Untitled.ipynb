{
 "cells": [
  {
   "cell_type": "code",
   "execution_count": 8,
   "id": "09dc4310",
   "metadata": {},
   "outputs": [
    {
     "data": {
      "text/html": [
       "<div>\n",
       "<style scoped>\n",
       "    .dataframe tbody tr th:only-of-type {\n",
       "        vertical-align: middle;\n",
       "    }\n",
       "\n",
       "    .dataframe tbody tr th {\n",
       "        vertical-align: top;\n",
       "    }\n",
       "\n",
       "    .dataframe thead th {\n",
       "        text-align: right;\n",
       "    }\n",
       "</style>\n",
       "<table border=\"1\" class=\"dataframe\">\n",
       "  <thead>\n",
       "    <tr style=\"text-align: right;\">\n",
       "      <th></th>\n",
       "      <th>times</th>\n",
       "    </tr>\n",
       "  </thead>\n",
       "  <tbody>\n",
       "    <tr>\n",
       "      <th>0</th>\n",
       "      <td>6</td>\n",
       "    </tr>\n",
       "    <tr>\n",
       "      <th>1</th>\n",
       "      <td>13</td>\n",
       "    </tr>\n",
       "    <tr>\n",
       "      <th>2</th>\n",
       "      <td>6</td>\n",
       "    </tr>\n",
       "    <tr>\n",
       "      <th>3</th>\n",
       "      <td>4</td>\n",
       "    </tr>\n",
       "    <tr>\n",
       "      <th>4</th>\n",
       "      <td>2</td>\n",
       "    </tr>\n",
       "  </tbody>\n",
       "</table>\n",
       "</div>"
      ],
      "text/plain": [
       "   times\n",
       "0      6\n",
       "1     13\n",
       "2      6\n",
       "3      4\n",
       "4      2"
      ]
     },
     "execution_count": 8,
     "metadata": {},
     "output_type": "execute_result"
    }
   ],
   "source": [
    "import pandas as pd\n",
    "import numpy as np\n",
    "import xlrd\n",
    "from scipy.stats import norm\n",
    "\n",
    "file_path = \"LSItubiancishu.xlsx\"\n",
    "data = pd.read_excel(file_path)\n",
    "\n",
    "data.head()"
   ]
  },
  {
   "cell_type": "code",
   "execution_count": 9,
   "id": "62a3239e",
   "metadata": {},
   "outputs": [
    {
     "name": "stdout",
     "output_type": "stream",
     "text": [
      "    times\n",
      "0   21964\n",
      "2   14431\n",
      "4   12595\n",
      "5   10851\n",
      "6    9840\n",
      "3    9478\n",
      "7    7856\n",
      "1    6680\n",
      "8    6001\n",
      "9    4019\n",
      "10   2822\n",
      "11   1852\n",
      "12   1154\n",
      "13    738\n",
      "14    502\n",
      "15    277\n",
      "16    167\n",
      "17     90\n",
      "18     39\n",
      "19     27\n",
      "20      8\n",
      "21      7\n",
      "22      1\n"
     ]
    }
   ],
   "source": [
    "pieces = []\n",
    "\n",
    "for col in data.columns:\n",
    "\n",
    "\ttmp_series = data[col].value_counts()\n",
    "\t\n",
    "\ttmp_series.name = col\n",
    "\t\n",
    "\tpieces.append(tmp_series)\n",
    "\t\n",
    "\tdf_value_counts = pd.concat(pieces, axis=1)\n",
    "\n",
    "    \n",
    "print(df_value_counts)\n"
   ]
  },
  {
   "cell_type": "code",
   "execution_count": null,
   "id": "f1cac25b",
   "metadata": {},
   "outputs": [],
   "source": []
  }
 ],
 "metadata": {
  "kernelspec": {
   "display_name": "Python 3 (ipykernel)",
   "language": "python",
   "name": "python3"
  },
  "language_info": {
   "codemirror_mode": {
    "name": "ipython",
    "version": 3
   },
   "file_extension": ".py",
   "mimetype": "text/x-python",
   "name": "python",
   "nbconvert_exporter": "python",
   "pygments_lexer": "ipython3",
   "version": "3.8.3"
  }
 },
 "nbformat": 4,
 "nbformat_minor": 5
}
